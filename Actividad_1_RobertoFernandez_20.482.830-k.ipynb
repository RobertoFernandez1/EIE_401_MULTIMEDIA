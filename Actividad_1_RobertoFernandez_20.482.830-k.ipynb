{
  "nbformat": 4,
  "nbformat_minor": 0,
  "metadata": {
    "colab": {
      "provenance": [],
      "authorship_tag": "ABX9TyMvV/0cn4tdvMCe8KIlngv3",
      "include_colab_link": true
    },
    "kernelspec": {
      "name": "python3",
      "display_name": "Python 3"
    },
    "language_info": {
      "name": "python"
    }
  },
  "cells": [
    {
      "cell_type": "markdown",
      "metadata": {
        "id": "view-in-github",
        "colab_type": "text"
      },
      "source": [
        "<a href=\"https://colab.research.google.com/github/RobertoFernandez1/EIE_401_MULTIMEDIA/blob/main/Untitled6.ipynb\" target=\"_parent\"><img src=\"https://colab.research.google.com/assets/colab-badge.svg\" alt=\"Open In Colab\"/></a>"
      ]
    },
    {
      "cell_type": "markdown",
      "source": [
        "#Actividad 1\n",
        "##Roberto Fernandez Fuentes\n",
        "##Profesor Jorge Hernan Cardenas\n",
        "##Ayudante Gabriel Olmos\n",
        "1. Define en python vectores y funciones\n",
        "Debes generar vectores que representan intervalos de tiempo o de una variable. Debes ingresar las funciones matemáticas y evaluarlas en los vectores generados.\n",
        "\n",
        "$$f(x)=e^{-x^2} $$\n",
        "$$f(z)=ysin(x)$$\n",
        "\n",
        "\n",
        "\n",
        "Haz una gráfica para cada uno de las funciones evaluadas.\n"
      ],
      "metadata": {
        "id": "io7sziYj5q8O"
      }
    },
    {
      "cell_type": "code",
      "source": [
        "import numpy as np\n",
        "array= np.linspace(0,10,50)                   #Estoy llamando a un vector de un largo de 50 con numeros que van de 0 a 10\n",
        "array\n",
        "formula=fn =np.e**-array**2 #Tomo los valores del vector de 50 elementos y los evaluo en la primera funcion a evaluar\n",
        "formula  #Esta primera funcion la voy a llamar formula\n",
        "formula1=fn=np.sin(array)*array #Tomo valores de del vector de 50 elementos y los evaluo en la segunda ecuacion\n",
        "formula1 #Esta segunda funcion la voy a llamar formula1\n",
        "import matplotlib.pyplot as plt\n",
        "plt.figure(figsize=(13,4))\n",
        "plt.subplot(1,2,1)\n",
        "plt.plot(array,formula,color=\"black\") ##Una vez evaluados los valores del vector de 50 elementos en la primera funcion ,los grafico mediante la funcion pltplot\n",
        "plt.title(\"Grafica e^-2x\")\n",
        "\n",
        "plt.subplot(1,2,2)\n",
        "plt.plot(array,formula1,color=\"blue\")##Lo mismo hago para la sigueinte funcion\n",
        "plt.title(\"Grafica ysin(x)\")"
      ],
      "metadata": {
        "id": "2iPAF8TG5zwt"
      },
      "execution_count": null,
      "outputs": []
    },
    {
      "cell_type": "markdown",
      "source": [
        "2. Ruido\n",
        "Crear una señal (senoidal, cosenoidal, etc) y demuestra la agregación de ruido.\n",
        "3. Ruido Gaussiano\n",
        "Debes agregar la señal de ruido a la que creaste previamente. Adicionalmente, debes mostrar una gráfica con el resultado.\n"
      ],
      "metadata": {
        "id": "YRX6Q_0H6NCu"
      }
    },
    {
      "cell_type": "code",
      "source": [
        "import numpy as np\n",
        "import matplotlib.pyplot as plt\n",
        "media=100\n",
        "desviacion_estandar=0.3\n",
        "x=np.linspace(0,30,100)\n",
        "y=np.sin(2*np.pi*10*x)#Creo una señal sinusoidal\n",
        "ruido=np.random.normal(media,desviacion_estandar,100)#Mediante la funcion np.random.normal puedo crear el ruido gaussiano\n",
        "señal_ruido=y+ruido#Sumo ambas señales\n",
        "plt.figure(figsize=(13,4))\n",
        "plt.subplot(1,2,1)\n",
        "plt.plot(x,y)\n",
        "plt.title(\"Señal sin ruido\")\n",
        "plt.subplot(1,2,2)\n",
        "plt.plot(x,señal_ruido)\n",
        "plt.title(\"Señal con ruido\")#Grafico ambas funciones para demostrar el efecto del ruido gaussiano en una señal\n"
      ],
      "metadata": {
        "id": "jQ3gnejZ6iAO"
      },
      "execution_count": null,
      "outputs": []
    },
    {
      "cell_type": "markdown",
      "source": [
        "4. Ruido Rosa\n",
        "Investiga en que consiste el ruido rosa, cual es la diferencia del ruido gaussiano y demuéstralo.\n",
        "\n",
        "El espectro de frecuencias del ruido rosa es lineal en escala logarítmica; tiene igual poder en bandas que son proporcionalmente amplias.Esto significa que el ruido rosa tendría la misma potencia en el rango de frecuencia de 40 a 60 Hz que en la banda de 4000 a 6000 Hz. Dado que los humanos escuchamos en un espacio tan proporcional, donde una duplicación de la frecuencia (una octava) se percibe igual independientemente de la frecuencia real (40-60 Hz se escucha como el mismo intervalo y distancia que 4000-6000 Hz), cada octava contiene la misma cantidad de energía y, por tanto, el ruido rosa se utiliza a menudo como señal de referencia en ingeniería de audio. La densidad de potencia espectral, en comparación con el ruido blanco, disminuye 3,01 dB por octava (densidad proporcional a 1/f). Por esta razón, el ruido rosa a menudo se denomina \"ruido 1/f\".\n",
        "\n",
        "La principal diferencia entre el ruido gaussiano y el ruido rosa radica en la distribucion de la energia en el dominio de la frecuencia .El ruido gaussiano puede o no tener una distribucion uniforme de su energia en todas las frecuencias ,mientras que el ruido rosa tiene una contraccion en su energia a medida su frecuencia aumenta"
      ],
      "metadata": {
        "id": "piIlYfss6nrh"
      }
    }
  ]
}
