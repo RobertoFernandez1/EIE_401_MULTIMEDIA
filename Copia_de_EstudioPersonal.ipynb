{
  "nbformat": 4,
  "nbformat_minor": 0,
  "metadata": {
    "colab": {
      "provenance": [],
      "authorship_tag": "ABX9TyMZJFEhbo1tOfwJdpkfb88D",
      "include_colab_link": true
    },
    "kernelspec": {
      "name": "python3",
      "display_name": "Python 3"
    },
    "language_info": {
      "name": "python"
    }
  },
  "cells": [
    {
      "cell_type": "markdown",
      "metadata": {
        "id": "view-in-github",
        "colab_type": "text"
      },
      "source": [
        "<a href=\"https://colab.research.google.com/github/RobertoFernandez1/EIE_401_MULTIMEDIA/blob/main/Copia_de_EstudioPersonal.ipynb\" target=\"_parent\"><img src=\"https://colab.research.google.com/assets/colab-badge.svg\" alt=\"Open In Colab\"/></a>"
      ]
    },
    {
      "cell_type": "code",
      "source": [
        "import time\n",
        "def temporizador(segundos):\n",
        "  while segundos:\n",
        "    mins,secs=divmod(segundos,60)\n",
        "    tiempo='{:02d}:{:02d}'.format(mins,secs)\n",
        "    print(tiempo,end=\"\\r\",flush=True)\n",
        "    time.sleep(1)\n",
        "    segundos -= 1\n",
        "  print(\"temporizador terminado\")\n"
      ],
      "metadata": {
        "id": "GAy0_mTVb4NZ"
      },
      "execution_count": null,
      "outputs": []
    },
    {
      "cell_type": "code",
      "source": [
        "temporizador(3)"
      ],
      "metadata": {
        "colab": {
          "base_uri": "https://localhost:8080/"
        },
        "collapsed": true,
        "id": "VHQzzdHQcyFF",
        "outputId": "76b41b65-c8cc-466e-e8c9-0e0fb37f894c"
      },
      "execution_count": null,
      "outputs": [
        {
          "output_type": "stream",
          "name": "stdout",
          "text": [
            "temporizador terminado\n"
          ]
        }
      ]
    },
    {
      "cell_type": "code",
      "source": [
        "s=\"Nombre: {} {}\"\n",
        "s.format(\"roberto\",\"fernandez\")"
      ],
      "metadata": {
        "colab": {
          "base_uri": "https://localhost:8080/",
          "height": 35
        },
        "id": "rRSD_kS1bPCW",
        "outputId": "9a84e27b-08f8-4218-a4a3-724d45b96680"
      },
      "execution_count": null,
      "outputs": [
        {
          "output_type": "execute_result",
          "data": {
            "text/plain": [
              "'Nombre: roberto fernandez'"
            ],
            "application/vnd.google.colaboratory.intrinsic+json": {
              "type": "string"
            }
          },
          "metadata": {},
          "execution_count": 24
        }
      ]
    },
    {
      "cell_type": "code",
      "source": [
        "def suma(x,y):\n",
        "  return x+y\n",
        "def resta(x,y):\n",
        "  return x-y\n",
        "def multiplicacion(x,y):\n",
        "  return x*y\n",
        "def division(x,y):\n",
        "  if y==0:\n",
        "    return print(\"Division por 0\")\n",
        "  return x/y\n",
        "\n",
        "def main():\n",
        "  while True:\n",
        "    print(\"Operaciones\")\n",
        "    print(\"1.Suma\")\n",
        "    print(\"2.Resta\")\n",
        "    print(\"3.Multiplicacion\")\n",
        "    print(\"4.Dvision\")\n",
        "    print(\"5.Salir\")\n",
        "    c=input(\"Elija la operacion a realizar \")\n",
        "    if c==\"5\":\n",
        "      print(\"Saliendo\")\n",
        "      break\n",
        "    if c in [\"1\",\"2\",\"3\",\"4\"]:\n",
        "       x=int(input(\"Primer numero \"))\n",
        "       y=int(input(\"Segundo numero \"))\n",
        "       if c==\"1\":\n",
        "         print(\"Suma \",suma(x,y))\n",
        "       elif c==\"2\":\n",
        "         print(\"Resta \",resta(x,y))\n",
        "       elif  c==\"3\":\n",
        "         print(\"Multipliacion \",multiplicacion(x,y))\n",
        "       elif c==\"4\":\n",
        "         print(\"Division\",division(x,y))\n",
        "    else:\n",
        "      print(\"Error en la operacion seleccionada \")\n",
        "\n",
        "if __name__==\"__main__\":  #el scrip se ejecuta directamente\n",
        "  main()\n",
        "\n",
        "\n",
        "\n",
        "\n",
        "\n",
        "\n",
        "\n",
        "\n"
      ],
      "metadata": {
        "colab": {
          "base_uri": "https://localhost:8080/"
        },
        "id": "fcW_HjtU7oCJ",
        "outputId": "1df21eb4-9c88-4022-ffee-0665500ec6f8"
      },
      "execution_count": null,
      "outputs": [
        {
          "output_type": "stream",
          "name": "stdout",
          "text": [
            "Operaciones\n",
            "1.Suma\n",
            "2.Resta\n",
            "3.Multiplicacion\n",
            "4.Dvision\n",
            "5.Salir\n",
            "Elija la operacion a realizar 5\n",
            "Saliendo\n"
          ]
        }
      ]
    },
    {
      "cell_type": "code",
      "source": [
        "import matplotlib.pyplot as plt\n",
        "import numpy as np\n",
        "x=np.linspace(-10,10,50)\n",
        "y=x**2+2*x+1\n",
        "plt.plot(x,y)\n",
        "plt.show()\n",
        "\n"
      ],
      "metadata": {
        "colab": {
          "base_uri": "https://localhost:8080/",
          "height": 430
        },
        "id": "gC-uOZrZDvaQ",
        "outputId": "4a9f0fcc-2553-411b-caf3-c2ad6ce682dd"
      },
      "execution_count": null,
      "outputs": [
        {
          "output_type": "display_data",
          "data": {
            "text/plain": [
              "<Figure size 640x480 with 1 Axes>"
            ],
            "image/png": "[encoded data removed]"
          },
          "metadata": {}
        }
      ]
    },
    {
      "cell_type": "code",
      "source": [
        "def main():\n",
        "  while True:\n",
        "    print(\"Selccione una opcion\")\n",
        "    print(\"1.Comparar numeros\")\n",
        "    print(\"2.Salir\")\n",
        "    c=input(\"Selccione una opcion:\")\n",
        "    if c==\"2\":\n",
        "      print(\"Saliendo\")\n",
        "      break\n",
        "    elif c==\"1\":\n",
        "      a=float(input(\"seleccione el primer numero:\"))\n",
        "      b=float(input(\"seleccione el segundo numero:\"))\n",
        "      if a > b:\n",
        "        print(\"El primer numero es mayor\")\n",
        "      elif b > a:\n",
        "          print(\"El segundo numero es mayor\")\n",
        "      else:\n",
        "        print(\"Iguales\")\n",
        "    else :\n",
        "        print(\"Opcion no valida\")\n",
        "if __name__==\"__main__\" :\n",
        "  main()\n",
        "\n",
        "\n",
        "\n"
      ],
      "metadata": {
        "colab": {
          "base_uri": "https://localhost:8080/"
        },
        "id": "P_0dXjDOruUJ",
        "outputId": "df5b3ad0-bd4b-41f6-9f33-166a26949a14"
      },
      "execution_count": null,
      "outputs": [
        {
          "output_type": "stream",
          "name": "stdout",
          "text": [
            "Selccione una opcion\n",
            "1.Comparar numeros\n",
            "2.Salir\n",
            "Selccione una opcion:21,2\n",
            "Opcion no valida\n",
            "Selccione una opcion\n",
            "1.Comparar numeros\n",
            "2.Salir\n",
            "Selccione una opcion:1\n",
            "seleccione el primer numero:21.4\n",
            "seleccione el segundo numero:21.5\n",
            "El segundo numero es mayor\n",
            "Selccione una opcion\n",
            "1.Comparar numeros\n",
            "2.Salir\n",
            "Selccione una opcion:1\n",
            "seleccione el primer numero:21.76\n",
            "seleccione el segundo numero:21.76\n",
            "Iguales\n",
            "Selccione una opcion\n",
            "1.Comparar numeros\n",
            "2.Salir\n",
            "Selccione una opcion:2\n",
            "Saliendo\n"
          ]
        }
      ]
    },
    {
      "cell_type": "code",
      "source": [
        "import numpy as np\n",
        "import matplotlib.pyplot as plt\n",
        "\n",
        "t=np.linspace(0,100,1000)\n",
        "r=np.sin(2*np.pi*50*t)\n",
        "plt.plot(t,r)\n"
      ],
      "metadata": {
        "colab": {
          "base_uri": "https://localhost:8080/",
          "height": 447
        },
        "id": "YAlx7X1Ry4ja",
        "outputId": "fc1dd020-4142-4e3e-b6a4-c6261e88aad3"
      },
      "execution_count": null,
      "outputs": [
        {
          "output_type": "execute_result",
          "data": {
            "text/plain": [
              "[<matplotlib.lines.Line2D at 0x7f780f871cf0>]"
            ]
          },
          "metadata": {},
          "execution_count": 24
        },
        {
          "output_type": "display_data",
          "data": {
            "text/plain": [
              "<Figure size 640x480 with 1 Axes>"
            ],
            "image/png": "[encoded data removed]"
          },
          "metadata": {}
        }
      ]
    },
    {
      "cell_type": "code",
      "source": [
        "\n",
        "\n",
        "for i in range(0,10):\n",
        "  print(\"numero\",i)"
      ],
      "metadata": {
        "colab": {
          "base_uri": "https://localhost:8080/"
        },
        "id": "zZwkGrG9mOL5",
        "outputId": "91b2715f-668f-4d2d-f563-8625d41ad1d4"
      },
      "execution_count": null,
      "outputs": [
        {
          "output_type": "stream",
          "name": "stdout",
          "text": [
            "numero 0\n",
            "numero 1\n",
            "numero 2\n",
            "numero 3\n",
            "numero 4\n",
            "numero 5\n",
            "numero 6\n",
            "numero 7\n",
            "numero 8\n",
            "numero 9\n"
          ]
        }
      ]
    },
    {
      "cell_type": "code",
      "source": [
        "a=[[2,2,2],\n",
        " [3,5,4],\n",
        "  [6,7,9]\n",
        "   ]\n",
        "for fila in a:\n",
        "  print(fila)"
      ],
      "metadata": {
        "colab": {
          "base_uri": "https://localhost:8080/"
        },
        "id": "yP32nypKm-Hv",
        "outputId": "0166d6bd-806c-48cd-92cc-0a59fb8237ec"
      },
      "execution_count": null,
      "outputs": [
        {
          "output_type": "stream",
          "name": "stdout",
          "text": [
            "[2, 2, 2]\n",
            "[3, 5, 4]\n",
            "[6, 7, 9]\n"
          ]
        }
      ]
    },
    {
      "cell_type": "code",
      "source": [
        "\n",
        "def newton_raphson(f,df,xo,tol=1e-6,num_iteraciones=100):\n",
        "  xn=x0\n",
        "  for n in range(0,num_iteraciones):\n",
        "    fxn=f(xn)\n",
        "    if abs(fxn)<tol:\n",
        "      print(f\"Convergencia alcanzada en a iteracion {n+1}\")\n",
        "      return xn\n",
        "    dfxn=df(xn)\n",
        "    if dfxn==0:\n",
        "      print(\"La derivada dio 0\")\n",
        "      return None\n",
        "\n",
        "    xn=xn-fxn/dfxn\n",
        "  print(\"NuMERO MAXIMO DE ITERACIONES\")\n",
        "  return None\n",
        "\n",
        "def f(x):\n",
        "    return x**3-2*x-5\n",
        "def df(x):\n",
        "    return 3*x**2-2\n",
        "x0= 1\n",
        "raiz=newton_raphson(f,df,x0)\n",
        "print(f\"la raiz encontrada es : {raiz}\")\n",
        "\n"
      ],
      "metadata": {
        "colab": {
          "base_uri": "https://localhost:8080/"
        },
        "id": "1hNw9252ybTb",
        "outputId": "e2809643-ae10-4890-d6ab-175c23aa6b8e"
      },
      "execution_count": null,
      "outputs": [
        {
          "output_type": "stream",
          "name": "stdout",
          "text": [
            "Convergencia alcanzada en a iteracion 9\n",
            "la raiz encontrada es : 2.0945514815642077\n"
          ]
        }
      ]
    },
    {
      "cell_type": "code",
      "source": [
        "import os\n",
        "\n",
        "os.mkdir(\"perros\")\n",
        "os.mkdir(\"gatos\")\n",
        "os.mkdir(\"aves\")"
      ],
      "metadata": {
        "id": "vgMFUe1IlDNF"
      },
      "execution_count": null,
      "outputs": []
    },
    {
      "cell_type": "code",
      "source": [
        "%%time\n",
        "import cv2 as cv\n",
        "import numpy as np\n",
        "import cv2\n",
        "kernel = np.array([[1, 0, -1],\n",
        "                   [2, 0, -2],\n",
        "                   [1, 0, -1]])\n",
        "def transformacion(img_path, ruta_destino):\n",
        "    print(f\"Procesando: {img_path} -> {ruta_destino}\")\n",
        "    img = cv.imread(img_path)\n",
        "    if img is None:\n",
        "        print(f\"Error al cargar la imagen: {img_path}\")\n",
        "        return\n",
        "    img_rotada = cv2.filter2d(img,-1,kernel)\n",
        "    cv.imwrite(ruta_destino, img_rotada)\n",
        "\n",
        "def procesar_imagenes(carpeta_origen, carpeta_destino):\n",
        "    if not os.path.exists(carpeta_destino):\n",
        "        os.mkdir(carpeta_destino)\n",
        "\n",
        "    archivos = os.listdir(carpeta_origen)\n",
        "    for archivo in archivos:\n",
        "        ruta_origen = os.path.join(carpeta_origen, archivo)\n",
        "        ruta_destino = os.path.join(carpeta_destino, archivo)\n",
        "        transformacion(ruta_origen, ruta_destino)\n",
        "\n",
        "\n",
        "procesar_imagenes(\"/content/perros\", \"/content/perros_posprocesadas1\")\n",
        "procesar_imagenes(\"/content/gatos\", \"/content/gatos_posprocesadas2\")\n",
        "procesar_imagenes(\"/content/aves\", \"/content/aves_posprocesadas3\")\n"
      ],
      "metadata": {
        "colab": {
          "base_uri": "https://localhost:8080/",
          "height": 211
        },
        "id": "D75mqcCQky2D",
        "outputId": "9868aa52-2a98-4cb2-fe92-606c54693831"
      },
      "execution_count": null,
      "outputs": [
        {
          "output_type": "stream",
          "name": "stdout",
          "text": [
            "Procesando: /content/perros/perros.jpg -> /content/perros_posprocesadas1/perros.jpg\n"
          ]
        },
        {
          "output_type": "error",
          "ename": "AttributeError",
          "evalue": "module 'cv2' has no attribute 'filter2d'",
          "traceback": [
            "\u001b[0;31m---------------------------------------------------------------------------\u001b[0m",
            "\u001b[0;31mAttributeError\u001b[0m                            Traceback (most recent call last)",
            "\u001b[0;32m<timed exec>\u001b[0m in \u001b[0;36m<module>\u001b[0;34m\u001b[0m\n",
            "\u001b[0;32m<timed exec>\u001b[0m in \u001b[0;36mprocesar_imagenes\u001b[0;34m(carpeta_origen, carpeta_destino)\u001b[0m\n",
            "\u001b[0;32m<timed exec>\u001b[0m in \u001b[0;36mtransformacion\u001b[0;34m(img_path, ruta_destino)\u001b[0m\n",
            "\u001b[0;31mAttributeError\u001b[0m: module 'cv2' has no attribute 'filter2d'"
          ]
        }
      ]
    },
    {
      "cell_type": "code",
      "source": [
        "%%time\n",
        "import os\n",
        "import cv2\n",
        "import numpy as np\n",
        "\n",
        "# Definir el kernel de convolución\n",
        "kernel = np.array([[1, 0, -1],\n",
        "                   [2, 0, -2],\n",
        "                   [1, 0, -1]])\n",
        "\n",
        "# Función para aplicar la transformación de convolución a una imagen y guardarla\n",
        "def transformacion(img_path, ruta_destino):\n",
        "    print(f\"Procesando: {img_path} -> {ruta_destino}\")\n",
        "    img = cv2.imread(img_path)\n",
        "    if img is None:\n",
        "        print(f\"Error al cargar la imagen: {img_path}\")\n",
        "        return\n",
        "    img_rotada = cv2.filter2D(img, -1, kernel)\n",
        "    cv2.imwrite(ruta_destino, img_rotada)\n",
        "\n",
        "# Función para procesar todas las imágenes en una carpeta y guardarlas en otra carpeta\n",
        "def procesar_imagenes(carpeta_origen, carpeta_destino):\n",
        "    if not os.path.exists(carpeta_destino):\n",
        "        os.mkdir(carpeta_destino)\n",
        "\n",
        "    archivos = os.listdir(carpeta_origen)\n",
        "    for archivo in archivos:\n",
        "        ruta_origen = os.path.join(carpeta_origen, archivo)\n",
        "        ruta_destino = os.path.join(carpeta_destino, archivo)\n",
        "        transformacion(ruta_origen, ruta_destino)\n",
        "\n",
        "# Procesar imágenes en cada carpeta especificada\n",
        "procesar_imagenes(\"/content/perros\", \"/content/perros_posprocesadas1\")\n",
        "procesar_imagenes(\"/content/gatos\", \"/content/gatos_posprocesadas2\")\n",
        "procesar_imagenes(\"/content/aves\", \"/content/aves_posprocesadas3\")\n"
      ],
      "metadata": {
        "colab": {
          "base_uri": "https://localhost:8080/"
        },
        "id": "okKmnNlVmFKI",
        "outputId": "aab14acb-974f-4147-dd7b-ff21268e9a0c"
      },
      "execution_count": null,
      "outputs": [
        {
          "output_type": "stream",
          "name": "stdout",
          "text": [
            "Procesando: /content/perros/perros.jpg -> /content/perros_posprocesadas1/perros.jpg\n",
            "Procesando: /content/gatos/gatos.jpg -> /content/gatos_posprocesadas2/gatos.jpg\n",
            "Procesando: /content/aves/aves.jpg -> /content/aves_posprocesadas3/aves.jpg\n",
            "CPU times: user 128 ms, sys: 3.67 ms, total: 132 ms\n",
            "Wall time: 176 ms\n"
          ]
        }
      ]
    },
    {
      "cell_type": "code",
      "source": [
        "%%time\n",
        "import cv2\n",
        "from multiprocessing import Pool\n",
        "\n",
        "kernel = np.array([[1, 0, -1],\n",
        "                   [2, 0, -2],\n",
        "                   [1, 0, -1]])\n",
        "def procesar_imagen(args):\n",
        "    carpeta_origen, carpeta_destino, nombre_imagen = args\n",
        "    ruta_origen = os.path.join(carpeta_origen, nombre_imagen)\n",
        "    ruta_destino = os.path.join(carpeta_destino, nombre_imagen)\n",
        "\n",
        "    img = cv2.imread(ruta_origen)\n",
        "    if img is None: #Un verificador que nos entrega una alerta\n",
        "        return f'Error al abrir: {ruta_origen}'\n",
        "\n",
        "    img_rotada = cv2.filter2D(img, -1,kernel) # Rotamos la imagen\n",
        "    cv2.imwrite(ruta_destino, img_rotada)\n",
        "\n",
        "    return f'Procesada: {ruta_destino}'\n",
        "\n",
        "def main():\n",
        "    carpetas_origen = ['/content/perros', '/content/gatos', '/content/aves']\n",
        "    carpetas_destino = ['posprocesadas1', 'posprocesadas2', 'posprocesadas3']\n",
        "\n",
        "    # Crear carpetas de destino si no existen\n",
        "    for carpeta in carpetas_destino:\n",
        "        os.makedirs(carpeta, exist_ok=True)\n",
        "\n",
        "    tareas = []\n",
        "    for origen, destino in zip(carpetas_origen, carpetas_destino):\n",
        "        print(origen)\n",
        "        print(destino)\n",
        "        for nombre_imagen in os.listdir(origen):\n",
        "            if nombre_imagen.endswith(('.jpg', '.jpeg', '.png')):\n",
        "                tareas.append((origen, destino, nombre_imagen))\n",
        "    print(tareas)\n",
        "    # Usar el pool de procesos para el procesamiento paralelo\n",
        "    with Pool() as pool:\n",
        "        resultados = pool.map(procesar_imagen, tareas)\n",
        "\n",
        "    for resultado in resultados:\n",
        "        print(resultado)\n",
        "\n",
        "if __name__ == '__main__':\n",
        "    main()\n"
      ],
      "metadata": {
        "colab": {
          "base_uri": "https://localhost:8080/"
        },
        "id": "hdQZVsn1mtat",
        "outputId": "75247a53-5533-4573-9ef8-302c6d9e005f"
      },
      "execution_count": null,
      "outputs": [
        {
          "output_type": "stream",
          "name": "stdout",
          "text": [
            "/content/perros\n",
            "posprocesadas1\n",
            "/content/gatos\n",
            "posprocesadas2\n",
            "/content/aves\n",
            "posprocesadas3\n",
            "[('/content/perros', 'posprocesadas1', 'perros.jpg'), ('/content/gatos', 'posprocesadas2', 'gatos.jpg'), ('/content/aves', 'posprocesadas3', 'aves.jpg')]\n",
            "Procesada: posprocesadas1/perros.jpg\n",
            "Procesada: posprocesadas2/gatos.jpg\n",
            "Procesada: posprocesadas3/aves.jpg\n",
            "CPU times: user 57.5 ms, sys: 27.3 ms, total: 84.8 ms\n",
            "Wall time: 349 ms\n"
          ]
        }
      ]
    },
    {
      "cell_type": "code",
      "source": [
        "import os\n",
        "import shutil\n",
        "\n",
        "# Define the directory to be cleared\n",
        "dir_path = '/content'\n",
        "\n",
        "# Check if the directory exists\n",
        "if os.path.exists(dir_path):\n",
        "    # Remove all files and subdirectories in the directory\n",
        "    shutil.rmtree(dir_path)\n",
        "    # Recreate the empty directory\n",
        "    os.makedirs(dir_path)\n",
        "    print(f\"All files in {dir_path} have been deleted.\")\n",
        "else:\n",
        "    print(f\"The directory {dir_path} does not exist.\")\n"
      ],
      "metadata": {
        "id": "K1PctPxFy3xB"
      },
      "execution_count": null,
      "outputs": []
    }
  ]
}